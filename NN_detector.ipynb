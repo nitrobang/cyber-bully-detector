{
  "cells": [
    {
      "cell_type": "markdown",
      "metadata": {
        "id": "UBd-k5cTohpY"
      },
      "source": [
        "DATA PRE PROCESSING"
      ]
    },
    {
      "cell_type": "code",
      "execution_count": 6,
      "metadata": {
        "colab": {
          "base_uri": "https://localhost:8080/"
        },
        "id": "u7h2AQgy-P0J",
        "outputId": "99a66cf4-52e0-4a34-c0a1-42f59fb4bd43"
      },
      "outputs": [
        {
          "name": "stdout",
          "output_type": "stream",
          "text": [
            "Mounted at /content/drive/\n"
          ]
        }
      ],
      "source": [
        "from google.colab import drive\n",
        "drive.mount('/content/drive/')"
      ]
    },
    {
      "cell_type": "code",
      "execution_count": 1,
      "metadata": {
        "colab": {
          "base_uri": "https://localhost:8080/"
        },
        "id": "Hm5tOi1Z-Upw",
        "outputId": "d7dccb8c-2d21-4962-ebc2-0d5574004961"
      },
      "outputs": [
        {
          "name": "stdout",
          "output_type": "stream",
          "text": [
            "2.7.0\n"
          ]
        }
      ],
      "source": [
        "import tensorflow as tf\n",
        "print(tf.__version__)\n"
      ]
    },
    {
      "cell_type": "code",
      "execution_count": 2,
      "metadata": {
        "colab": {
          "base_uri": "https://localhost:8080/"
        },
        "id": "C60mmqFnrXS0",
        "outputId": "164e2fbd-95a1-4eec-a11d-ed7f30bded70",
        "scrolled": false
      },
      "outputs": [
        {
          "name": "stdout",
          "output_type": "stream",
          "text": [
            "Collecting tweet-preprocessor\n",
            "  Downloading tweet_preprocessor-0.6.0-py3-none-any.whl (27 kB)\n",
            "Installing collected packages: tweet-preprocessor\n",
            "Successfully installed tweet-preprocessor-0.6.0\n"
          ]
        }
      ],
      "source": [
        "!pip install tweet-preprocessor"
      ]
    },
    {
      "cell_type": "code",
      "execution_count": 3,
      "metadata": {
        "id": "fVqCw7JbohXf"
      },
      "outputs": [],
      "source": [
        "import numpy as np\n",
        "import pandas as pd"
      ]
    },
    {
      "cell_type": "code",
      "execution_count": 4,
      "metadata": {
        "colab": {
          "base_uri": "https://localhost:8080/"
        },
        "id": "jQLhTcC7oqFn",
        "outputId": "26dc5222-408f-4b78-e9f7-bfdd669fa76c"
      },
      "outputs": [
        {
          "name": "stdout",
          "output_type": "stream",
          "text": [
            "[nltk_data] Downloading package stopwords to /root/nltk_data...\n",
            "[nltk_data]   Unzipping corpora/stopwords.zip.\n",
            "[nltk_data] Downloading package wordnet to /root/nltk_data...\n",
            "[nltk_data]   Unzipping corpora/wordnet.zip.\n"
          ]
        }
      ],
      "source": [
        "import re\n",
        "import nltk\n",
        "import preprocessor as preproc\n",
        "from nltk.corpus import stopwords\n",
        "from nltk.stem import PorterStemmer\n",
        "from nltk.stem import WordNetLemmatizer\n",
        "\n",
        "\n",
        "nltk.download('stopwords')\n",
        "nltk.download('wordnet')\n",
        "stop_words = set(stopwords.words(\"english\"))"
      ]
    },
    {
      "cell_type": "code",
      "execution_count": 7,
      "metadata": {
        "colab": {
          "base_uri": "https://localhost:8080/"
        },
        "id": "wpSvd4_RO2e9",
        "outputId": "a53f5c22-5d0a-42ec-cda7-b5358af09f63"
      },
      "outputs": [
        {
          "name": "stdout",
          "output_type": "stream",
          "text": [
            "8799\n",
            "13471\n",
            "14881\n",
            "24783\n"
          ]
        }
      ],
      "source": [
        "df1 = pd.read_csv('/content/drive/MyDrive/Colab Notebooks/ISAA_DATASET/kaggle_parsed_dataset.csv')\n",
        "df2 = pd.read_csv('/content/drive/MyDrive/Colab Notebooks/ISAA_DATASET/twitter_racism_parsed_dataset.csv')\n",
        "df3 = pd.read_csv('/content/drive/MyDrive/Colab Notebooks/ISAA_DATASET/twitter_sexism_parsed_dataset.csv')\n",
        "df4 = pd.read_csv('/content/drive/MyDrive/Colab Notebooks/ISAA_DATASET/data.csv')\n",
        "print(len(df1))\n",
        "print(len(df2))\n",
        "print(len(df3))\n",
        "print(len(df4))"
      ]
    },
    {
      "cell_type": "code",
      "execution_count": 8,
      "metadata": {
        "colab": {
          "base_uri": "https://localhost:8080/",
          "height": 1000
        },
        "id": "yXVf7tMMHF9E",
        "outputId": "df8b2b73-b93c-4025-adfa-dd6fcdddfcca"
      },
      "outputs": [
        {
          "name": "stdout",
          "output_type": "stream",
          "text": [
            "5993\n",
            "11501\n",
            "11501\n"
          ]
        },
        {
          "data": {
            "text/plain": [
              "array([[<matplotlib.axes._subplots.AxesSubplot object at 0x7f6e392ad1d0>]],\n",
              "      dtype=object)"
            ]
          },
          "execution_count": 8,
          "metadata": {},
          "output_type": "execute_result"
        },
        {
          "data": {
            "image/png": "[encoded data removed]",
            "text/plain": [
              "<Figure size 432x288 with 1 Axes>"
            ]
          },
          "metadata": {
            "needs_background": "light"
          },
          "output_type": "display_data"
        },
        {
          "data": {
            "image/png": "[encoded data removed]",
            "text/plain": [
              "<Figure size 432x288 with 1 Axes>"
            ]
          },
          "metadata": {
            "needs_background": "light"
          },
          "output_type": "display_data"
        },
        {
          "data": {
            "image/png": "[encoded data removed]",
            "text/plain": [
              "<Figure size 432x288 with 1 Axes>"
            ]
          },
          "metadata": {
            "needs_background": "light"
          },
          "output_type": "display_data"
        },
        {
          "data": {
            "image/png": "[encoded data removed]",
            "text/plain": [
              "<Figure size 432x288 with 1 Axes>"
            ]
          },
          "metadata": {
            "needs_background": "light"
          },
          "output_type": "display_data"
        }
      ],
      "source": [
        "df1.hist(column=\"oh_label\")\n",
        "print(len(df1.query('oh_label == 0')))\n",
        "df2.hist(column=\"oh_label\")\n",
        "print(len(df2.query('oh_label == 0')))\n",
        "df3.hist(column=\"oh_label\")\n",
        "print(len(df3.query('oh_label == 0')))\n",
        "df4.hist(column=\"class\")"
      ]
    },
    {
      "cell_type": "code",
      "execution_count": 9,
      "metadata": {
        "colab": {
          "base_uri": "https://localhost:8080/"
        },
        "id": "XFZ4d7BFMW3g",
        "outputId": "f0139d29-a042-49f7-c9e4-8ce1a19d0899"
      },
      "outputs": [
        {
          "name": "stdout",
          "output_type": "stream",
          "text": [
            "   Unnamed: 0  class                                              tweet\n",
            "0           0      0  !!! RT @mayasolovely: As a woman you shouldn't...\n",
            "1           1      1  !!!!! RT @mleew17: boy dats cold...tyga dwn ba...\n",
            "2           2      1  !!!!!!! RT @UrKindOfBrand Dawg!!!! RT @80sbaby...\n",
            "3           3      1  !!!!!!!!! RT @C_G_Anderson: @viva_based she lo...\n",
            "4           4      1  !!!!!!!!!!!!! RT @ShenikaRoberts: The shit you...\n",
            "24783\n"
          ]
        }
      ],
      "source": [
        "print(df4.head())\n",
        "print(len(df4['class']))"
      ]
    },
    {
      "cell_type": "code",
      "execution_count": 10,
      "metadata": {
        "colab": {
          "base_uri": "https://localhost:8080/"
        },
        "id": "R1lzUdCYtXHQ",
        "outputId": "f3269f3b-3814-4253-cddb-a93446ad9620"
      },
      "outputs": [
        {
          "name": "stdout",
          "output_type": "stream",
          "text": [
            "7552\n",
            "13471\n",
            "14880\n",
            "24782\n"
          ]
        }
      ],
      "source": [
        "df1 = df1[df1['Text'].str.split().str.len().lt(50)]\n",
        "df2 = df2[df2['Text'].str.split().str.len().lt(50)]\n",
        "df3 = df3[df3['Text'].str.split().str.len().lt(50)]\n",
        "df4 = df4[df4['tweet'].str.split().str.len().lt(50)]\n",
        "\n",
        "print(len(df1))\n",
        "print(len(df2))\n",
        "print(len(df3))\n",
        "print(len(df4))"
      ]
    },
    {
      "cell_type": "code",
      "execution_count": 11,
      "metadata": {
        "colab": {
          "base_uri": "https://localhost:8080/",
          "height": 336
        },
        "id": "foAtjcAEO2e-",
        "outputId": "8b1ccfd3-7688-48aa-90ba-285a56df9eef",
        "scrolled": false
      },
      "outputs": [
        {
          "name": "stdout",
          "output_type": "stream",
          "text": [
            "32216\n",
            "28467\n",
            "60683\n"
          ]
        },
        {
          "data": {
            "image/png": "[encoded data removed]",
            "text/plain": [
              "<Figure size 432x288 with 1 Axes>"
            ]
          },
          "metadata": {
            "needs_background": "light"
          },
          "output_type": "display_data"
        }
      ],
      "source": [
        "A = np.concatenate([df1['Text'].values, df2['Text'].values, df3['Text'].values, df4['tweet'].values],axis=0)\n",
        "B = np.concatenate([df1['oh_label'].values, df2['oh_label'].values, df3['oh_label'].values, df4['class'].values],axis=0)\n",
        "df = pd.DataFrame()\n",
        "df['text'] = A.tolist()\n",
        "df['label'] = B.tolist()\n",
        "df.sample(frac=1).reset_index(drop=True)\n",
        "df = df.dropna()\n",
        "df.hist(column=\"label\")\n",
        "print(len(df.query('label == 0')))\n",
        "print(len(df.query('label == 1')))\n",
        "print(len(df))"
      ]
    },
    {
      "cell_type": "code",
      "execution_count": 12,
      "metadata": {
        "colab": {
          "base_uri": "https://localhost:8080/",
          "height": 317
        },
        "id": "5shUc0S4xDaS",
        "outputId": "70feaf3d-01e0-44d5-a00b-c81a9bafe879"
      },
      "outputs": [
        {
          "name": "stdout",
          "output_type": "stream",
          "text": [
            "32216\n",
            "28467\n"
          ]
        },
        {
          "data": {
            "image/png": "[encoded data removed]",
            "text/plain": [
              "<Figure size 432x288 with 1 Axes>"
            ]
          },
          "metadata": {
            "needs_background": "light"
          },
          "output_type": "display_data"
        }
      ],
      "source": [
        "#df = df.drop(df.query('label == 0').sample(frac=.71).index)\n",
        "df.hist(column=\"label\")\n",
        "print(len(df.query('label == 0')))\n",
        "print(len(df.query('label == 1')))"
      ]
    },
    {
      "cell_type": "code",
      "execution_count": 13,
      "metadata": {
        "id": "pzIaaGfBsMFQ",
        "scrolled": true
      },
      "outputs": [],
      "source": [
        "#Dataset Cleaning\n",
        "\n",
        "import preprocessor as p\n",
        "ps = PorterStemmer()\n",
        "\n",
        "#Clean the text\n",
        "def regexCleaning(text):\n",
        "  text = p.clean(text)\n",
        "  text = re.sub('[^a-zA-Z]| {2,}',' ',text)\n",
        "  text = text.lower()\n",
        "  text = text.split()\n",
        "  text = [ps.stem(word) for word in text if word not in stop_words]\n",
        "  text = ' '.join(text)\n",
        "  if(len(text)):\n",
        "    return text\n",
        "  else:\n",
        "    pass"
      ]
    },
    {
      "cell_type": "code",
      "execution_count": 14,
      "metadata": {
        "colab": {
          "base_uri": "https://localhost:8080/"
        },
        "id": "1G--oKl3sMFR",
        "outputId": "bf5a4dbc-5e29-4053-a0db-2e640b94a24e"
      },
      "outputs": [
        {
          "name": "stdout",
          "output_type": "stream",
          "text": [
            "(60683,)\n",
            "(60683,)\n"
          ]
        }
      ],
      "source": [
        "X = df.iloc[:,0].values\n",
        "y = df.iloc[:,1].values\n",
        "\n",
        "print(X.shape)\n",
        "print(y.shape)\n",
        "\n",
        "X_cleaned = []\n",
        "y_cleaned = []\n",
        "for index,tweet in enumerate(X):\n",
        "  cleaned_tweet = regexCleaning(tweet)\n",
        "  if(cleaned_tweet):\n",
        "    X_cleaned.append(cleaned_tweet)\n",
        "    y_cleaned.append(y[index])\n",
        "\n",
        "X_cleaned = np.asarray(X_cleaned)\n",
        "y_cleaned = np.asarray(y_cleaned)"
      ]
    },
    {
      "cell_type": "code",
      "execution_count": 15,
      "metadata": {
        "colab": {
          "base_uri": "https://localhost:8080/"
        },
        "id": "Kj7kHuMAAagD",
        "outputId": "32dc5211-cfc3-41ee-e194-5750a0f18aba"
      },
      "outputs": [
        {
          "name": "stdout",
          "output_type": "stream",
          "text": [
            "(59881,)\n",
            "(59881,)\n"
          ]
        }
      ],
      "source": [
        "indices = np.arange(X_cleaned.shape[0])\n",
        "np.random.shuffle(indices)\n",
        "X_cleaned = X_cleaned[indices]\n",
        "y_cleaned = y_cleaned[indices]\n",
        "\n",
        "print(X_cleaned.shape)\n",
        "print(y_cleaned.shape)"
      ]
    },
    {
      "cell_type": "code",
      "execution_count": 16,
      "metadata": {
        "colab": {
          "base_uri": "https://localhost:8080/"
        },
        "id": "UeE0d6AGRrpb",
        "outputId": "9d4f6b5e-91a3-4b19-e995-635cb2af8c21"
      },
      "outputs": [
        {
          "name": "stdout",
          "output_type": "stream",
          "text": [
            "Number of unique tokens are:  23471\n"
          ]
        }
      ],
      "source": [
        "from keras.preprocessing.text import Tokenizer\n",
        "from keras.preprocessing.sequence import pad_sequences\n",
        "\n",
        "maxlen = 50\n",
        "max_words = 20000\n",
        "\n",
        "tokenizer = Tokenizer(num_words=max_words)\n",
        "tokenizer.fit_on_texts(X_cleaned)\n",
        "sequences = tokenizer.texts_to_sequences(X_cleaned)\n",
        "word_index = tokenizer.word_index\n",
        "print(\"Number of unique tokens are: \",len(word_index))\n",
        "X_padded = pad_sequences(sequences, maxlen=maxlen, truncating=\"post\", padding=\"post\")"
      ]
    },
    {
      "cell_type": "code",
      "execution_count": 17,
      "metadata": {
        "colab": {
          "base_uri": "https://localhost:8080/"
        },
        "collapsed": true,
        "id": "HbxQKceZO2fB",
        "outputId": "4f792ea4-5d16-437c-8c1d-fe2e5a1ef7f6"
      },
      "outputs": [
        {
          "name": "stdout",
          "output_type": "stream",
          "text": [
            "(59881, 50)\n",
            "(59881,)\n"
          ]
        }
      ],
      "source": [
        "X = X_padded\n",
        "y = y_cleaned\n",
        "print(X.shape)\n",
        "print(y.shape)"
      ]
    },
    {
      "cell_type": "code",
      "execution_count": 23,
      "metadata": {
        "colab": {
          "base_uri": "https://localhost:8080/"
        },
        "id": "2Eku53-SsMFU",
        "outputId": "340c07f7-a881-4432-8cf9-fcd0581c300f",
        "scrolled": true
      },
      "outputs": [
        {
          "name": "stdout",
          "output_type": "stream",
          "text": [
            "[[ 282   28   50 ...    0    0    0]\n",
            " [  49  548   43 ...    0    0    0]\n",
            " [  87   35 1204 ...    0    0    0]\n",
            " ...\n",
            " [ 194 1053  596 ...    0    0    0]\n",
            " [3900 2020  609 ...    0    0    0]\n",
            " [  45  134    1 ...    0    0    0]]\n"
          ]
        }
      ],
      "source": [
        "from sklearn.model_selection import train_test_split\n",
        "\n",
        "X_train, X_test, y_train, y_test = train_test_split(X, y, test_size=0.3, random_state=42)\n",
        "X_test, X_val, y_test, y_val = train_test_split(X_test, y_test, test_size=0.5, random_state=42)\n",
        "print(X_train)"
      ]
    },
    {
      "cell_type": "code",
      "execution_count": 24,
      "metadata": {
        "colab": {
          "base_uri": "https://localhost:8080/"
        },
        "id": "UaLDNygEO2fD",
        "outputId": "25c528e8-d4e4-47d4-a037-cc43397cd87d"
      },
      "outputs": [
        {
          "name": "stdout",
          "output_type": "stream",
          "text": [
            "(41916, 50)\n",
            "(41916,)\n",
            "(8982, 50)\n",
            "(8982,)\n",
            "(8983, 50)\n",
            "(8983,)\n"
          ]
        }
      ],
      "source": [
        "print(X_train.shape)\n",
        "print(y_train.shape)\n",
        "print(X_test.shape)\n",
        "print(y_test.shape)\n",
        "print(X_val.shape)\n",
        "print(y_val.shape)"
      ]
    },
    {
      "cell_type": "code",
      "execution_count": 25,
      "metadata": {
        "colab": {
          "base_uri": "https://localhost:8080/"
        },
        "id": "agQEycl6sMFV",
        "outputId": "372f8a96-87e0-424b-9ae1-214e1e515a49"
      },
      "outputs": [
        {
          "name": "stdout",
          "output_type": "stream",
          "text": [
            "Model: \"sequential_2\"\n",
            "_________________________________________________________________\n",
            " Layer (type)                Output Shape              Param #   \n",
            "=================================================================\n",
            " embedding_2 (Embedding)     (None, 50, 50)            1000000   \n",
            "                                                                 \n",
            " lstm_4 (LSTM)               (None, 50, 100)           60400     \n",
            "                                                                 \n",
            " lstm_5 (LSTM)               (None, 50)                30200     \n",
            "                                                                 \n",
            " dense_4 (Dense)             (None, 30)                1530      \n",
            "                                                                 \n",
            " dense_5 (Dense)             (None, 1)                 31        \n",
            "                                                                 \n",
            "=================================================================\n",
            "Total params: 1,092,161\n",
            "Trainable params: 1,092,161\n",
            "Non-trainable params: 0\n",
            "_________________________________________________________________\n",
            "None\n"
          ]
        }
      ],
      "source": [
        "from tensorflow.keras.models import Sequential\n",
        "from tensorflow.keras.layers import Embedding\n",
        "from keras.layers import LSTM, Dense, Embedding, Dropout\n",
        "from tensorflow.keras.callbacks import EarlyStopping\n",
        "\n",
        "early_stopping = EarlyStopping(\n",
        "    monitor='val_accuracy', \n",
        "    patience=4, \n",
        ")\n",
        "\n",
        "model = Sequential()\n",
        "model.add(Embedding(max_words, 50, input_length=maxlen))\n",
        "model.add(LSTM(100, return_sequences = True, dropout=0.5))\n",
        "model.add(LSTM(50, dropout=0.4))\n",
        "model.add(Dense(30))\n",
        "model.add(Dense(1,activation='sigmoid'))\n",
        "\n",
        "model.compile(loss='binary_crossentropy',optimizer='adam',metrics=['accuracy'])\n",
        "\n",
        "print(model.summary())\n"
      ]
    },
    {
      "cell_type": "code",
      "execution_count": 26,
      "metadata": {
        "colab": {
          "base_uri": "https://localhost:8080/"
        },
        "id": "7POTJnv6sMFW",
        "outputId": "222ad5dd-db91-46d2-bf60-21ece64bdbe4",
        "scrolled": true
      },
      "outputs": [
        {
          "name": "stdout",
          "output_type": "stream",
          "text": [
            "Epoch 1/15\n",
            "655/655 [==============================] - 26s 34ms/step - loss: 0.6919 - accuracy: 0.5261 - val_loss: 0.6925 - val_accuracy: 0.5188\n",
            "Epoch 2/15\n",
            "655/655 [==============================] - 21s 32ms/step - loss: 0.6919 - accuracy: 0.5269 - val_loss: 0.6927 - val_accuracy: 0.5188\n",
            "Epoch 3/15\n",
            "655/655 [==============================] - 21s 32ms/step - loss: 0.5921 - accuracy: 0.6705 - val_loss: 0.4964 - val_accuracy: 0.7921\n",
            "Epoch 4/15\n",
            "655/655 [==============================] - 21s 32ms/step - loss: 0.4878 - accuracy: 0.7999 - val_loss: 0.4639 - val_accuracy: 0.8012\n",
            "Epoch 5/15\n",
            "655/655 [==============================] - 21s 32ms/step - loss: 0.4572 - accuracy: 0.8167 - val_loss: 0.4604 - val_accuracy: 0.8181\n",
            "Epoch 6/15\n",
            "655/655 [==============================] - 21s 32ms/step - loss: 0.4512 - accuracy: 0.8068 - val_loss: 0.4393 - val_accuracy: 0.8098\n",
            "Epoch 7/15\n",
            "655/655 [==============================] - 21s 32ms/step - loss: 0.4299 - accuracy: 0.8297 - val_loss: 0.4436 - val_accuracy: 0.8340\n",
            "Epoch 8/15\n",
            "655/655 [==============================] - 21s 32ms/step - loss: 0.4369 - accuracy: 0.8397 - val_loss: 0.4326 - val_accuracy: 0.8394\n",
            "Epoch 9/15\n",
            "655/655 [==============================] - 21s 32ms/step - loss: 0.3903 - accuracy: 0.8514 - val_loss: 0.3932 - val_accuracy: 0.8351\n",
            "Epoch 10/15\n",
            "655/655 [==============================] - 21s 32ms/step - loss: 0.3314 - accuracy: 0.8690 - val_loss: 0.3063 - val_accuracy: 0.8724\n",
            "Epoch 11/15\n",
            "655/655 [==============================] - 21s 32ms/step - loss: 0.2781 - accuracy: 0.8904 - val_loss: 0.2836 - val_accuracy: 0.8809\n",
            "Epoch 12/15\n",
            "655/655 [==============================] - 21s 32ms/step - loss: 0.2362 - accuracy: 0.9087 - val_loss: 0.2836 - val_accuracy: 0.8812\n",
            "Epoch 13/15\n",
            "655/655 [==============================] - 21s 32ms/step - loss: 0.2078 - accuracy: 0.9217 - val_loss: 0.2969 - val_accuracy: 0.8729\n",
            "Epoch 14/15\n",
            "655/655 [==============================] - 21s 32ms/step - loss: 0.1867 - accuracy: 0.9298 - val_loss: 0.3071 - val_accuracy: 0.8765\n",
            "Epoch 15/15\n",
            "655/655 [==============================] - 21s 32ms/step - loss: 0.1693 - accuracy: 0.9376 - val_loss: 0.3198 - val_accuracy: 0.8765\n"
          ]
        }
      ],
      "source": [
        "history = model.fit(X_train, y_train, validation_data=(X_val, y_val), epochs=15, batch_size=64, callbacks=[early_stopping])"
      ]
    },
    {
      "cell_type": "code",
      "execution_count": 27,
      "metadata": {
        "colab": {
          "base_uri": "https://localhost:8080/",
          "height": 573
        },
        "id": "UTgF0d1Zf5KY",
        "outputId": "09b40092-c4a4-4871-dbac-e426424b570f"
      },
      "outputs": [
        {
          "data": {
            "image/png": "[encoded data removed]",
            "text/plain": [
              "<Figure size 432x288 with 1 Axes>"
            ]
          },
          "metadata": {
            "needs_background": "light"
          },
          "output_type": "display_data"
        },
        {
          "data": {
            "image/png": "[encoded data removed]",
            "text/plain": [
              "<Figure size 432x288 with 1 Axes>"
            ]
          },
          "metadata": {
            "needs_background": "light"
          },
          "output_type": "display_data"
        }
      ],
      "source": [
        "import matplotlib.pyplot as plt\n",
        "acc = history.history['accuracy']\n",
        "val_acc = history.history['val_accuracy']\n",
        "loss = history.history['loss']\n",
        "val_loss = history.history['val_loss']\n",
        "\n",
        "epochs = range(1,len(acc) + 1)\n",
        "plt.plot(epochs, acc, 'bo', label='Training acc')\n",
        "plt.plot(epochs, val_acc, 'b', label='Validation acc')\n",
        "plt.title('Training and validation accuracy')\n",
        "plt.xlabel(\"Epochs\")\n",
        "plt.ylabel(\"Accuracy\")\n",
        "plt.legend()\n",
        "\n",
        "plt.figure()\n",
        "\n",
        "plt.plot(epochs, loss, 'bo', label='Training loss')\n",
        "plt.plot(epochs, val_loss, 'b', label='Validation loss')\n",
        "plt.xlabel(\"Epochs\")\n",
        "plt.ylabel(\"Loss\")\n",
        "plt.title('Training and validation loss')\n",
        "plt.legend()\n",
        "plt.show()"
      ]
    },
    {
      "cell_type": "code",
      "execution_count": null,
      "metadata": {
        "colab": {
          "base_uri": "https://localhost:8080/"
        },
        "id": "9bVCJilHYwNG",
        "outputId": "54272bc5-73e1-4fcd-bb80-48f207508c2f"
      },
      "outputs": [
        {
          "name": "stdout",
          "output_type": "stream",
          "text": [
            "Saved model to disk\n"
          ]
        }
      ],
      "source": [
        "import io, json\n",
        "model_json = model.to_json()\n",
        "with open(\"model.json\", \"w\") as json_file:\n",
        "    json_file.write(model_json)\n",
        "\n",
        "# serialize weights to HDF5\n",
        "model.save_weights(\"model.h5\")\n",
        "\n",
        "tokenizer_json = tokenizer.to_json()\n",
        "with io.open('tokenizer.json', 'w', encoding='utf-8') as f:\n",
        "    f.write(json.dumps(tokenizer_json, ensure_ascii=False))\n",
        "\n",
        "print(\"Saved model to disk\")"
      ]
    },
    {
      "cell_type": "code",
      "execution_count": 31,
      "metadata": {
        "colab": {
          "base_uri": "https://localhost:8080/",
          "height": 355
        },
        "id": "xJQyDrlFsMFX",
        "outputId": "cf42596c-8501-49e8-8541-72658e5fb307"
      },
      "outputs": [
        {
          "data": {
            "image/png": "[encoded data removed]",
            "text/plain": [
              "<Figure size 432x288 with 2 Axes>"
            ]
          },
          "metadata": {
            "needs_background": "light"
          },
          "output_type": "display_data"
        },
        {
          "name": "stdout",
          "output_type": "stream",
          "text": [
            "0.8785348474727233\n"
          ]
        }
      ],
      "source": [
        "#Confusion Matrix\n",
        "from sklearn.metrics import confusion_matrix\n",
        "from sklearn.metrics import accuracy_score\n",
        "import seaborn as sns\n",
        "\n",
        "\n",
        "y_pred=(model.predict(X_test) > 0.5).astype(\"int32\")\n",
        "cf_matrix = confusion_matrix(y_test,y_pred)\n",
        "\n",
        "ax = sns.heatmap(cf_matrix/np.sum(cf_matrix), annot=True, fmt='.2%', cmap='Blues')\n",
        "ax.set_title('Confusion Matrix\\n\\n');\n",
        "ax.set_xlabel('\\nPredicted Values')\n",
        "ax.set_ylabel('Actual Values ');\n",
        "\n",
        "## Ticket labels - List must be in alphabetical order\n",
        "ax.xaxis.set_ticklabels(['False','True'])\n",
        "ax.yaxis.set_ticklabels(['False','True'])\n",
        "\n",
        "## Display the visualization of the Confusion Matrix.\n",
        "plt.show()\n",
        "print(accuracy_score(y_test,y_pred))"
      ]
    },
    {
      "cell_type": "code",
      "execution_count": null,
      "metadata": {
        "id": "GlHMriLSZ-gS"
      },
      "outputs": [],
      "source": [
        "def test_output(sentence):\n",
        "  sentence = regexCleaning(sentence)\n",
        "  sentence = [sentence]\n",
        "  seq = tokenizer.texts_to_sequences(sentence)\n",
        "  seq_padded = pad_sequences(seq, maxlen=maxlen, truncating=\"post\", padding=\"post\")\n",
        "  prediction = (model.predict(seq_padded) > 0.5).astype(\"int32\")\n",
        "  print(prediction)\n",
        "  if(prediction == 1 ):\n",
        "    return \"offensive\"\n",
        "  else:\n",
        "    return \"non offensive\""
      ]
    },
    {
      "cell_type": "code",
      "execution_count": null,
      "metadata": {
        "colab": {
          "base_uri": "https://localhost:8080/"
        },
        "id": "9tUdce8sfxdp",
        "outputId": "482b1870-6e67-424f-fb66-d1ece8d8bea6"
      },
      "outputs": [
        {
          "name": "stdout",
          "output_type": "stream",
          "text": [
            "[[1]]\n",
            "offensive\n"
          ]
        }
      ],
      "source": [
        "print(test_output(\"Just get lost you idiot\"))"
      ]
    }
  ],
  "metadata": {
    "accelerator": "GPU",
    "colab": {
      "collapsed_sections": [],
      "name": "ISAA.ipynb",
      "provenance": []
    },
    "kernelspec": {
      "display_name": "Python 3.10.8 64-bit (microsoft store)",
      "language": "python",
      "name": "python3"
    },
    "language_info": {
      "codemirror_mode": {
        "name": "ipython",
        "version": 3
      },
      "file_extension": ".py",
      "mimetype": "text/x-python",
      "name": "python",
      "nbconvert_exporter": "python",
      "pygments_lexer": "ipython3",
      "version": "3.10.8"
    },
    "vscode": {
      "interpreter": {
        "hash": "e8a2339b5fe84e434a6b42fe93da4f9aa74ec890c671fd19d139aa51ffbd4100"
      }
    }
  },
  "nbformat": 4,
  "nbformat_minor": 0
}
